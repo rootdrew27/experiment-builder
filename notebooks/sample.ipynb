{
 "cells": [
  {
   "cell_type": "code",
   "execution_count": null,
   "metadata": {},
   "outputs": [],
   "source": [
    "import expb\n",
    "\n",
    "import numpy as np\n",
    "import cupy as cp"
   ]
  },
  {
   "cell_type": "code",
   "execution_count": null,
   "metadata": {},
   "outputs": [],
   "source": [
    "DATA_PATH = r\"path_to_data\"\n",
    "RANDOM_SEED = 477"
   ]
  },
  {
   "cell_type": "code",
   "execution_count": null,
   "metadata": {},
   "outputs": [],
   "source": [
    "expb.download_dataset(url=\"your_url\", dest_path=DATA_PATH, is_zip=True)"
   ]
  },
  {
   "cell_type": "code",
   "execution_count": null,
   "metadata": {},
   "outputs": [],
   "source": [
    "ds = expb.build_dataset(DATA_PATH, format=\"coco\", task=\"segm\")"
   ]
  },
  {
   "cell_type": "code",
   "execution_count": null,
   "metadata": {},
   "outputs": [],
   "source": [
    "# set the category hierarchy: control which category, when segmentations overlap, will be used in the label\n",
    "\n",
    "# background is set to 0 by default\n",
    "cat_hierarchy = {\"grass\": 1, \"road\": 2, \"stop-sign\": 3, \"debris\": 4, \"misc\": 4}\n",
    "\n",
    "ds.metadata.set_category_hierarchy(cat_hierarchy)"
   ]
  },
  {
   "cell_type": "code",
   "execution_count": null,
   "metadata": {},
   "outputs": [],
   "source": [
    "import expb.By as By\n",
    "\n",
    "# get subsets of the data using a ByOption (e.g. TAG, CATEGORY, IMGSHAPE)\n",
    "good_ds = ds.subset(by=By.TAG, value=\"Good\")"
   ]
  },
  {
   "cell_type": "code",
   "execution_count": null,
   "metadata": {},
   "outputs": [],
   "source": [
    "# split data into training and testing\n",
    "\n",
    "train_ds, test_ds = good_ds.split([0.8, 0.2], shuffle=True, random_seed=RANDOM_SEED)"
   ]
  },
  {
   "cell_type": "code",
   "execution_count": null,
   "metadata": {},
   "outputs": [],
   "source": [
    "# Applying functions to a Dataset is easy. Heres an example of an rgb to grayscale function:\n",
    "\n",
    "\n",
    "def rgb2gray(data, weights=[0.299, 0.587, 0.114]):\n",
    "    return np.dot(data[..., :3], weights)\n",
    "\n",
    "\n",
    "train_ds.apply(rgb2gray)\n",
    "\n",
    "# Pass parameters as a tuple or dict:\n",
    "\n",
    "train_ds.apply(rgb2gray, params=([0.298, 0.591, 0.111],))\n",
    "# OR\n",
    "train_ds.apply(rgb2gray, kw_params={\"weights\": [0.298, 0.591, 0.111]})\n",
    "\n",
    "# Importantly, data will not be loaded into memory and the function will not execute until .execute() is called:\n",
    "\n",
    "tr_gray_ds = train_ds.execute(return_dataset=True) # if you'd like the metadata attached to your output, pass True to the execute function.\n",
    "\n",
    "# Chaining actions and an execute call is permitted:\n",
    "\n",
    "result = tr_gray_ds.apply(func1).apply(func2).execute(return_dataset=False)"
   ]
  },
  {
   "cell_type": "code",
   "execution_count": null,
   "metadata": {},
   "outputs": [],
   "source": [
    "# Performing operations on a gpu is easy with expb\n",
    "\n",
    "# Use cupy's get_array_module to define functions impartial to the arrays location (e.g. host or gpu):\n",
    "\n",
    "def rgb2gray(data, weights=[0.299, 0.587, 0.114]):\n",
    "    xp = cp.get_array_module(data)\n",
    "    if xp is cp:\n",
    "        weights = cp.asarray(weights)\n",
    "    return xp.dot(data[..., :3], weights)\n",
    "\n",
    "# Then use .to() in your action chain\n",
    "\n",
    "tr_gray_ds = train_ds.to('cuda').apply(rgb2gray).execute(return_dataset=True)"
   ]
  },
  {
   "cell_type": "code",
   "execution_count": null,
   "metadata": {},
   "outputs": [],
   "source": []
  }
 ],
 "metadata": {
  "kernelspec": {
   "display_name": ".venv",
   "language": "python",
   "name": "python3"
  },
  "language_info": {
   "codemirror_mode": {
    "name": "ipython",
    "version": 3
   },
   "file_extension": ".py",
   "mimetype": "text/x-python",
   "name": "python",
   "nbconvert_exporter": "python",
   "pygments_lexer": "ipython3",
   "version": "3.10.6"
  }
 },
 "nbformat": 4,
 "nbformat_minor": 2
}
